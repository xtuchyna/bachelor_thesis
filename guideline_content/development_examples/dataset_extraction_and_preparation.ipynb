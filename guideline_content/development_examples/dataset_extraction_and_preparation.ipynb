{
 "cells": [
  {
   "cell_type": "markdown",
   "metadata": {},
   "source": [
    "# Extracting and processing the dataset"
   ]
  },
  {
   "cell_type": "markdown",
   "metadata": {},
   "source": [
    "We now have downloaded all of the packages' correctly included depencies lists in folder dependencies_complete_dataset. The next thing we would want to is to actually load these dependencies into a list of transactions."
   ]
  },
  {
   "cell_type": "markdown",
   "metadata": {},
   "source": [
    "First we import libraries needed for reading the files."
   ]
  },
  {
   "cell_type": "code",
   "execution_count": 45,
   "metadata": {},
   "outputs": [],
   "source": [
    "from os import listdir\n",
    "from os.path import isfile, join"
   ]
  },
  {
   "cell_type": "markdown",
   "metadata": {},
   "source": [
    "We declare the path to the folder where downloaded dependencies are."
   ]
  },
  {
   "cell_type": "code",
   "execution_count": 46,
   "metadata": {},
   "outputs": [],
   "source": [
    "folder_path = '../dependencies_extracted_from_specs/'"
   ]
  },
  {
   "cell_type": "markdown",
   "metadata": {},
   "source": [
    "Then we make a list of all of the files present in the dependencies_extracted_from_specs folder"
   ]
  },
  {
   "cell_type": "code",
   "execution_count": 47,
   "metadata": {},
   "outputs": [],
   "source": [
    "files = [f for f in listdir(folder_path) if isfile(join(folder_path, f))]"
   ]
  },
  {
   "cell_type": "markdown",
   "metadata": {},
   "source": [
    "The entries list is declared. This list will contain all of the transactions (itemsets)."
   ]
  },
  {
   "cell_type": "code",
   "execution_count": 48,
   "metadata": {},
   "outputs": [],
   "source": [
    "entries = []"
   ]
  },
  {
   "cell_type": "markdown",
   "metadata": {},
   "source": [
    "Now we would want to process every file as a transaction of items and insert it to the entries list. One transaction can be perceived as one entry."
   ]
  },
  {
   "cell_type": "markdown",
   "metadata": {},
   "source": [
    "However, there is one information we purposely omitted. One module in dependencies can be represented in the following shape:\n",
    "\n",
    "<dependency_name> <version>\n",
    "\n",
    "This <version> is often written with symbols <=, >= or =. So, for example:\n",
    "foo_module <= 2.5.0\n",
    "                  \n",
    "For the simplicity of a trained model we purposely left out this information from dataset by using the .split()[0] function, which results in less unique dependencies used. If you want to keep this information, just simply set the simplicity variable to false."
   ]
  },
  {
   "cell_type": "code",
   "execution_count": 49,
   "metadata": {},
   "outputs": [],
   "source": [
    "simplicity = True"
   ]
  },
  {
   "cell_type": "code",
   "execution_count": 50,
   "metadata": {},
   "outputs": [],
   "source": [
    "for file_path in files:\n",
    "    cur_entry = []\n",
    "    with open(join(folder_path,file_path)) as file:\n",
    "        cur_entry = [line.rstrip('\\n') for line in file]\n",
    "        if simplicity:\n",
    "            cur_entry = [dependency.split()[0] for dependency in cur_entry]\n",
    "    entries.append(cur_entry)"
   ]
  },
  {
   "cell_type": "markdown",
   "metadata": {},
   "source": [
    "Now the entries list is filled with transactions, we can look at some information about it."
   ]
  },
  {
   "cell_type": "code",
   "execution_count": 51,
   "metadata": {},
   "outputs": [
    {
     "name": "stdout",
     "output_type": "stream",
     "text": [
      "number of transactions:  21210\n"
     ]
    }
   ],
   "source": [
    "print('number of transactions: ', len(entries))"
   ]
  },
  {
   "cell_type": "code",
   "execution_count": 52,
   "metadata": {},
   "outputs": [
    {
     "name": "stdout",
     "output_type": "stream",
     "text": [
      "number of unique dependencies used:  17926\n"
     ]
    }
   ],
   "source": [
    "print('number of unique dependencies used: ', len(set(x for y in entries for x in y)))"
   ]
  },
  {
   "cell_type": "code",
   "execution_count": 53,
   "metadata": {},
   "outputs": [
    {
     "name": "stdout",
     "output_type": "stream",
     "text": [
      "the length of all transactions when summed together:  175264\n"
     ]
    }
   ],
   "source": [
    "print('the length of all transactions when summed together: ', len(list(x for y in entries for x in y)))"
   ]
  },
  {
   "cell_type": "markdown",
   "metadata": {},
   "source": [
    "# Saving the extracted dataset"
   ]
  },
  {
   "cell_type": "markdown",
   "metadata": {},
   "source": [
    "Now we want to store this proprocessed list of transactions to be saved in file, so that the processing is not needed anytime we want to use the dataset."
   ]
  },
  {
   "cell_type": "code",
   "execution_count": 54,
   "metadata": {},
   "outputs": [],
   "source": [
    "import csv"
   ]
  },
  {
   "cell_type": "code",
   "execution_count": 55,
   "metadata": {},
   "outputs": [],
   "source": [
    "with open('extracted_dependencies_list_of_lists.csv','w+') as dataset_file:\n",
    "    wr = csv.writer(dataset_file)\n",
    "    wr.writerows(entries)"
   ]
  },
  {
   "cell_type": "markdown",
   "metadata": {},
   "source": [
    "The preparation of dataset should be done here, now we can look at the different approaches of recommendation systems.  "
   ]
  },
  {
   "cell_type": "code",
   "execution_count": null,
   "metadata": {},
   "outputs": [],
   "source": []
  }
 ],
 "metadata": {
  "kernelspec": {
   "display_name": "Python 3",
   "language": "python",
   "name": "python3"
  },
  "language_info": {
   "codemirror_mode": {
    "name": "ipython",
    "version": 3
   },
   "file_extension": ".py",
   "mimetype": "text/x-python",
   "name": "python",
   "nbconvert_exporter": "python",
   "pygments_lexer": "ipython3",
   "version": "3.5.2"
  }
 },
 "nbformat": 4,
 "nbformat_minor": 2
}
